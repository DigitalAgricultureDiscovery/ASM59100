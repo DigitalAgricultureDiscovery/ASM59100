{
 "cells": [
  {
   "cell_type": "markdown",
   "id": "bcc737a4",
   "metadata": {},
   "source": [
    "# Imagery exif information extraction and features visualization"
   ]
  },
  {
   "cell_type": "markdown",
   "id": "068d1dbc",
   "metadata": {},
   "source": [
    "Overview:\n",
    "1. Using a custom dataset from Digital Agricultural Discovery (DAD) Lab\n",
    "2. Run basic statistical analysis on the dataset\n",
    "3. Obtain EXIF information from different images in the dataset"
   ]
  },
  {
   "cell_type": "markdown",
   "id": "839a6f2e",
   "metadata": {},
   "source": [
    "### Step 1: Import Necessary Libraries"
   ]
  },
  {
   "cell_type": "code",
   "execution_count": null,
   "id": "d7d1c83a",
   "metadata": {},
   "outputs": [],
   "source": [
    "# import the important libraries required for this lab\n",
    "import numpy as np  # the numpy libraries helps hand various mathematical operations in matrices\n",
    "import pandas as pd  # pandas is a python library that work with structural data (eg. columns and rows) \n",
    "import matplotlib.pyplot as plt  # matplotlib is a python library that helps create plots for visualization\n",
    "from PIL import Image  # Pillow is a python library that is used for reading and manipulating images\n",
    "from exif import Image as exif  # Exif is a python library that is used for obtaining image metadata\n",
    "import folium  # folium is a python library for creating and plotting with interactive maps\n",
    "import shapely  # shapely is a python library for creating polygons\n",
    "import geopandas as gpd  # geopandas is a python library for utilzing geolocation information\n",
    "from shapely.geometry import Polygon  # importing the Polygon function from shapely separately \n",
    "from pyproj import Geod  # pyproj is python library used for calcuating area and perimeter\n",
    "from shapely import wkt  # import wkt from shapely for making additonal calculations\n",
    "from shapely.geometry import MultiLineString"
   ]
  },
  {
   "cell_type": "markdown",
   "id": "2ad68c3f",
   "metadata": {},
   "source": [
    "### Step 2: Read the image"
   ]
  },
  {
   "cell_type": "code",
   "execution_count": null,
   "id": "abb68fe0",
   "metadata": {},
   "outputs": [],
   "source": [
    "# read the four different images that are provided using the PIL (Pillow library) by utilizing the Image function\n",
    "img = Image.open('img.JPG')   # the first image is importated by using the Image.open function. The argument in the path of the image file.\n",
    "plt.imshow(img)  # using the matplotlib library, show the image in Jupyter Notebooks"
   ]
  },
  {
   "cell_type": "markdown",
   "id": "9eed6f00",
   "metadata": {},
   "source": [
    "#### The four images that have been loaded were acquired at four differnet corners of a crop field."
   ]
  },
  {
   "cell_type": "markdown",
   "id": "f0dcc6f4",
   "metadata": {},
   "source": [
    "### Step 3: Obtain image metadata by using exif"
   ]
  },
  {
   "cell_type": "code",
   "execution_count": null,
   "id": "8813cb1f",
   "metadata": {},
   "outputs": [],
   "source": [
    "exif_data = img._getexif()  \n",
    "# EXIF data is the meta data associated with images\n",
    "# This can include the resolution of the image, geocoordinates, camera name, date, time, etc."
   ]
  },
  {
   "cell_type": "code",
   "execution_count": null,
   "id": "1b230d37",
   "metadata": {},
   "outputs": [],
   "source": [
    "exif_data"
   ]
  },
  {
   "cell_type": "code",
   "execution_count": null,
   "id": "8b05caed",
   "metadata": {},
   "outputs": [],
   "source": [
    "img_path = 'img.JPG' # make sure the image is in the same folder as the Jupyter Notebook"
   ]
  },
  {
   "cell_type": "code",
   "execution_count": null,
   "id": "525c8d88",
   "metadata": {},
   "outputs": [],
   "source": [
    "with open(img_path, 'rb') as src:\n",
    "    img = exif(src)"
   ]
  },
  {
   "cell_type": "code",
   "execution_count": null,
   "id": "d9d153ec",
   "metadata": {},
   "outputs": [],
   "source": [
    "img.list_all()"
   ]
  },
  {
   "cell_type": "code",
   "execution_count": null,
   "id": "564ffa75",
   "metadata": {},
   "outputs": [],
   "source": [
    "print(img.gps_altitude_ref, img.gps_altitude)"
   ]
  },
  {
   "cell_type": "code",
   "execution_count": null,
   "id": "db072953",
   "metadata": {},
   "outputs": [],
   "source": [
    "print(img.gps_latitude_ref, img.gps_latitude)"
   ]
  },
  {
   "cell_type": "code",
   "execution_count": null,
   "id": "9dd4db5f",
   "metadata": {},
   "outputs": [],
   "source": [
    "print(img.gps_longitude_ref, img.gps_longitude)"
   ]
  },
  {
   "cell_type": "markdown",
   "id": "09425a69",
   "metadata": {},
   "source": [
    "### Step 4: Convert image coordinates from WGS84 into decimal coordinates"
   ]
  },
  {
   "cell_type": "code",
   "execution_count": null,
   "id": "da0aedfb",
   "metadata": {},
   "outputs": [],
   "source": [
    "def decimal_coords(coords, ref):\n",
    "    decimal_degrees = coords[0] + coords[1] / 60 + coords[2] / 3600\n",
    "    if ref == \"S\" or ref == \"W\":\n",
    "        decimal_degrees = -decimal_degrees\n",
    "    return decimal_degrees"
   ]
  },
  {
   "cell_type": "code",
   "execution_count": null,
   "id": "5db10b50",
   "metadata": {},
   "outputs": [],
   "source": [
    "def image_coordinates(image_path):\n",
    "    with open(img_path, 'rb') as src:\n",
    "        img = exif(src)\n",
    "        \n",
    "    if img.has_exif:\n",
    "        coords = (decimal_coords(img.gps_latitude,img.gps_latitude_ref), decimal_coords(img.gps_longitude,img.gps_longitude_ref))\n",
    "    else:\n",
    "        print('The image has no EXIF information')\n",
    "        \n",
    "    print(f\"Image {src.name}, OS Version:{img.get('software', 'Not Known')} -----\")\n",
    "    print(f\"was taken: {img.datetime_original}\")\n",
    "    print(f\"Coordiantes: {coords}\")\n",
    "    \n",
    "    return coords"
   ]
  },
  {
   "cell_type": "code",
   "execution_count": null,
   "id": "25f0fa83",
   "metadata": {},
   "outputs": [],
   "source": [
    "coordinates = image_coordinates(img_path)  # call the function to obtain the image coordinates"
   ]
  },
  {
   "cell_type": "code",
   "execution_count": null,
   "id": "1fbad2e0",
   "metadata": {},
   "outputs": [],
   "source": [
    "print(coordinates)  # print the coordinates"
   ]
  },
  {
   "cell_type": "markdown",
   "id": "b60bd032",
   "metadata": {},
   "source": [
    "#### The reason we converted WGS84 to decimal coordinates is because the Folium library requires coordinates in coordinates"
   ]
  },
  {
   "cell_type": "markdown",
   "id": "8b4eaf42",
   "metadata": {},
   "source": [
    "### Step 5: Show the coordinates on a map using interactive visualizations (be creative)"
   ]
  },
  {
   "cell_type": "code",
   "execution_count": null,
   "id": "521cad8a",
   "metadata": {},
   "outputs": [],
   "source": [
    "m = folium.Map(location=[float(coordinates[0]), float(coordinates[1])], zoom_start=13)  # use folium.Map() to view the location"
   ]
  },
  {
   "cell_type": "code",
   "execution_count": null,
   "id": "f532b938",
   "metadata": {
    "scrolled": false
   },
   "outputs": [],
   "source": [
    "m  # this will show the map"
   ]
  },
  {
   "cell_type": "code",
   "execution_count": null,
   "id": "fe320ed7",
   "metadata": {},
   "outputs": [],
   "source": [
    "folium.Marker([float(coordinates[0]), float(coordinates[1])], popup=\"<i>Image 1 Coordinates</i>\").add_to(m)  # folium.Marker() will add the marker on the map"
   ]
  },
  {
   "cell_type": "code",
   "execution_count": null,
   "id": "08f8f7ec",
   "metadata": {},
   "outputs": [],
   "source": [
    "m  # this will shown the map"
   ]
  },
  {
   "cell_type": "markdown",
   "id": "a305eac0",
   "metadata": {},
   "source": [
    "### Step 6: Repeat the steps by loading three additional images and obtaining their coordinates"
   ]
  },
  {
   "cell_type": "code",
   "execution_count": null,
   "id": "3a592732",
   "metadata": {},
   "outputs": [],
   "source": [
    "# read image 1 'named img1.png'\n",
    "# ENTER CODE HERE\n",
    "img1 = Image.open('img1.JPG')"
   ]
  },
  {
   "cell_type": "code",
   "execution_count": null,
   "id": "5a468776",
   "metadata": {},
   "outputs": [],
   "source": [
    "coord1 = image_coordinates('img1.JPG')"
   ]
  },
  {
   "cell_type": "code",
   "execution_count": null,
   "id": "e6a7409f",
   "metadata": {},
   "outputs": [],
   "source": [
    "m = folium.Map(location=[float(coordinates[0]), float(coordinates[1])], zoom_start=13)\n",
    "folium.Marker([float(coord1[0]), float(coord1[1])], popup=\"<i>Image 1 Coordinates</i>\").add_to(m)"
   ]
  },
  {
   "cell_type": "code",
   "execution_count": null,
   "id": "cb1f6d8e",
   "metadata": {},
   "outputs": [],
   "source": [
    "m"
   ]
  },
  {
   "cell_type": "code",
   "execution_count": null,
   "id": "68f20551",
   "metadata": {},
   "outputs": [],
   "source": [
    "# read image 2 'named img2.png'\n",
    "# ENTER CODE HERE\n",
    "img2 = "
   ]
  },
  {
   "cell_type": "code",
   "execution_count": null,
   "id": "5447e08e",
   "metadata": {},
   "outputs": [],
   "source": [
    "coord2 = "
   ]
  },
  {
   "cell_type": "code",
   "execution_count": null,
   "id": "1fd6c161",
   "metadata": {},
   "outputs": [],
   "source": [
    "m = "
   ]
  },
  {
   "cell_type": "code",
   "execution_count": null,
   "id": "34e0a35a",
   "metadata": {},
   "outputs": [],
   "source": [
    "m"
   ]
  },
  {
   "cell_type": "code",
   "execution_count": null,
   "id": "f07c6c2e",
   "metadata": {},
   "outputs": [],
   "source": [
    "# read image 3 'named img3.png'\n",
    "# ENTER CODE HERE\n",
    "img3 = "
   ]
  },
  {
   "cell_type": "code",
   "execution_count": null,
   "id": "fcd6c8af",
   "metadata": {},
   "outputs": [],
   "source": [
    "coord3 = "
   ]
  },
  {
   "cell_type": "code",
   "execution_count": null,
   "id": "cf32d13d",
   "metadata": {},
   "outputs": [],
   "source": [
    "m = "
   ]
  },
  {
   "cell_type": "code",
   "execution_count": null,
   "id": "a90d86bc",
   "metadata": {},
   "outputs": [],
   "source": [
    "m"
   ]
  },
  {
   "cell_type": "code",
   "execution_count": null,
   "id": "d1539d1a",
   "metadata": {},
   "outputs": [],
   "source": [
    "# read image 4 'named img4.png'\n",
    "# ENTER CODE HERE\n",
    "img4 = "
   ]
  },
  {
   "cell_type": "code",
   "execution_count": null,
   "id": "a819303f",
   "metadata": {},
   "outputs": [],
   "source": [
    "coord4 = "
   ]
  },
  {
   "cell_type": "code",
   "execution_count": null,
   "id": "ea50bba7",
   "metadata": {},
   "outputs": [],
   "source": [
    "m = "
   ]
  },
  {
   "cell_type": "code",
   "execution_count": null,
   "id": "eb45bc11",
   "metadata": {},
   "outputs": [],
   "source": [
    "m"
   ]
  },
  {
   "cell_type": "markdown",
   "id": "6079100d",
   "metadata": {},
   "source": [
    "### Step 7: Use Shapely for plotting data and finding distance between different points at which images were acquired etec."
   ]
  },
  {
   "cell_type": "markdown",
   "id": "b41e021c",
   "metadata": {},
   "source": [
    "### Go to Google Maps\n",
    "\n",
    "- Select at least four different coordinates in a certain region, city, country, etc. to create a contour\n",
    "- Simply click anywhere on a map and record the coordinates (copy paste them here)\n",
    "- For example: latitude, longitude coordinates at Purdue University are: 40.422989, -86.921776, respectively\n",
    "- create variables in python such as: coord_1 = [40.422989, -86.921776]\n",
    "\n",
    "Reference: https://gis.stackexchange.com/questions/294206/how-to-create-a-simple-polygon-from-coordinates-in-geopandas-with-python"
   ]
  },
  {
   "cell_type": "code",
   "execution_count": null,
   "id": "855801ce",
   "metadata": {},
   "outputs": [],
   "source": [
    "# the convention for creating polygons is flipped to (logitude, latitude) as per library requirments\n",
    "# therefore, these four coordinates will look flipped\n",
    "\n",
    "coord_1 = [-86.952127, 40.466518]  # The (logitude, latitude) coordinates obtain from Google Maps for the first point\n",
    "coord_2 = [-86.896625, 40.450813]  # The (logitude, latitude) coordinates obtain from Google Maps for the second point\n",
    "coord_3 = [-86.921970, 40.419108]  # The (logitude, latitude) coordinates obtain from Google Maps for the third point\n",
    "coord_4 = [-86.945770, 40.438876]  # The (logitude, latitude) coordinates obtain from Google Maps for the fourth point"
   ]
  },
  {
   "cell_type": "markdown",
   "id": "44e279d9",
   "metadata": {},
   "source": [
    "NOTE: As per library requirements, the format for creating Polygons is (logitude, latitude) and for single point plotting, its (latitude, longitude)."
   ]
  },
  {
   "cell_type": "code",
   "execution_count": null,
   "id": "84edff09",
   "metadata": {},
   "outputs": [],
   "source": [
    "lon_lat_list = [coord_1, coord_2, coord_3, coord_4, coord_1]  # ensure that the last and first coordinates are the same to enclose the polygon"
   ]
  },
  {
   "cell_type": "code",
   "execution_count": null,
   "id": "b10a64ca",
   "metadata": {},
   "outputs": [],
   "source": [
    "polygon_geom = Polygon(lon_lat_list)  # create the polygon using the list of coordinates\n",
    "polygon = gpd.GeoDataFrame(index=[0], crs='epsg:4326', geometry=[polygon_geom])  # convert the Polygon into the correct format"
   ]
  },
  {
   "cell_type": "code",
   "execution_count": null,
   "id": "8c6e8439",
   "metadata": {},
   "outputs": [],
   "source": [
    "m = folium.Map([40.422989, -86.921776], zoom_start=13, tiles='cartodbpositron')  # center the map at Purdue University's center\n",
    "folium.GeoJson(polygon).add_to(m)  # add the polygon to the map\n",
    "folium.LatLngPopup().add_to(m)  # add the polygon to the map"
   ]
  },
  {
   "cell_type": "code",
   "execution_count": null,
   "id": "eb104911",
   "metadata": {
    "scrolled": false
   },
   "outputs": [],
   "source": [
    "m  # this will show the map"
   ]
  },
  {
   "cell_type": "markdown",
   "id": "2169337c",
   "metadata": {},
   "source": [
    "### Step 8: Calculate the perimeter and area of the Polygon."
   ]
  },
  {
   "cell_type": "markdown",
   "id": "08dc281e",
   "metadata": {},
   "source": [
    "#### Calculate the perimeter and area of polygon."
   ]
  },
  {
   "cell_type": "code",
   "execution_count": null,
   "id": "eb6e3dd0",
   "metadata": {},
   "outputs": [],
   "source": [
    "# specify a named ellipsoid\n",
    "geod = Geod(ellps=\"WGS84\")"
   ]
  },
  {
   "cell_type": "code",
   "execution_count": null,
   "id": "d7a3aadc",
   "metadata": {},
   "outputs": [],
   "source": [
    "# load the coordinates in this manner to calculate perimeter and area\n",
    "poly = wkt.loads(''' POLYGON ((-86.952127 40.466518, -86.896625 40.450813, -86.921970 40.419108, -86.945770 40.438876, -86.952127 40.466518))''')"
   ]
  },
  {
   "cell_type": "code",
   "execution_count": null,
   "id": "2bee8568",
   "metadata": {},
   "outputs": [],
   "source": [
    "area = abs(geod.geometry_area_perimeter(poly)[0])  # calculate the area\n",
    "perimeter = abs(geod.geometry_area_perimeter(poly)[1])  # calculate the perimeter\n",
    "\n",
    "print('# Geodesic area: {:12.3f} m²'.format(area))\n",
    "print('#                {:12.3f} km²'.format(area/1e6))\n",
    "\n",
    "print('# Geodesic perimeter: {:12.3f} m'.format(perimeter))\n",
    "print('#                {:12.3f} km'.format(perimeter/1e3))"
   ]
  },
  {
   "cell_type": "markdown",
   "id": "210ef95e",
   "metadata": {},
   "source": [
    "### Step 9: Homework Assignment "
   ]
  },
  {
   "cell_type": "markdown",
   "id": "519c0985",
   "metadata": {},
   "source": [
    "#### Task 1: Obtain coordinates to create a polygon anywhere in the wold (must use atleast 3 coordinates) to create a polygon and calculate the perimeter and area\n",
    "#### Use Steps 7 and 8 as a reference"
   ]
  },
  {
   "cell_type": "code",
   "execution_count": null,
   "id": "0c04a170",
   "metadata": {},
   "outputs": [],
   "source": [
    "# ENTER CODE HERE"
   ]
  },
  {
   "cell_type": "markdown",
   "id": "bb8ca27e",
   "metadata": {},
   "source": [
    "#### Task 2: Use the custom coordinates from the 4 images (i.e., img1, img2, img3, and img4) that were uploaded to create a polygon and calculate the perimeter and area\n",
    "#### Use Steps 6, 7, and 8 as a reference"
   ]
  },
  {
   "cell_type": "code",
   "execution_count": null,
   "id": "cbe82b8f",
   "metadata": {},
   "outputs": [],
   "source": [
    "# ENTER CODE HERE"
   ]
  }
 ],
 "metadata": {
  "kernelspec": {
   "display_name": "Python 3 (ipykernel)",
   "language": "python",
   "name": "python3"
  },
  "language_info": {
   "codemirror_mode": {
    "name": "ipython",
    "version": 3
   },
   "file_extension": ".py",
   "mimetype": "text/x-python",
   "name": "python",
   "nbconvert_exporter": "python",
   "pygments_lexer": "ipython3",
   "version": "3.9.9"
  }
 },
 "nbformat": 4,
 "nbformat_minor": 5
}
